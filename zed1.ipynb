{
 "cells": [
  {
   "cell_type": "code",
   "execution_count": 1,
   "metadata": {},
   "outputs": [
    {
     "name": "stdout",
     "output_type": "stream",
     "text": [
      "WARNING:tensorflow:From d:\\anaconda3\\envs\\myenv\\lib\\site-packages\\keras\\src\\losses.py:2976: The name tf.losses.sparse_softmax_cross_entropy is deprecated. Please use tf.compat.v1.losses.sparse_softmax_cross_entropy instead.\n",
      "\n"
     ]
    }
   ],
   "source": [
    "import torch\n",
    "import numpy as np\n",
    "from ultralytics import YOLO\n",
    "import matplotlib.pyplot as plt\n",
    "import tensorflow as tf\n",
    "from tensorflow import keras\n",
    "import cv2\n",
    "import time\n",
    "import pyzed.sl as sl"
   ]
  },
  {
   "cell_type": "code",
   "execution_count": 2,
   "metadata": {},
   "outputs": [
    {
     "name": "stdout",
     "output_type": "stream",
     "text": [
      "WARNING:tensorflow:From d:\\anaconda3\\envs\\myenv\\lib\\site-packages\\keras\\src\\backend.py:1398: The name tf.executing_eagerly_outside_functions is deprecated. Please use tf.compat.v1.executing_eagerly_outside_functions instead.\n",
      "\n",
      "WARNING:tensorflow:From d:\\anaconda3\\envs\\myenv\\lib\\site-packages\\keras\\src\\layers\\pooling\\max_pooling2d.py:161: The name tf.nn.max_pool is deprecated. Please use tf.nn.max_pool2d instead.\n",
      "\n"
     ]
    }
   ],
   "source": [
    "model1 = YOLO(\"bestv8.pt\")\n",
    "filepath = \"modelrestnet.h5\"\n",
    "model2 = tf.keras.models.load_model(filepath)"
   ]
  },
  {
   "cell_type": "code",
   "execution_count": 3,
   "metadata": {},
   "outputs": [],
   "source": [
    "# depth and yolo\n",
    "def depth():\n",
    "    # Initialize ZED camera\n",
    "    zed = sl.Camera()\n",
    "    init_params = sl.InitParameters()\n",
    "    init_params.camera_resolution = sl.RESOLUTION.HD720\n",
    "    init_params.coordinate_units = sl.UNIT.METER\n",
    "    init_params.depth_mode = sl.DEPTH_MODE.ULTRA  # Use ULTRA for higher depth accuracy\n",
    "    zed.open(init_params)\n",
    "\n",
    "    depth_ar = []\n",
    "    runtime_params = sl.RuntimeParameters()\n",
    "    image = sl.Mat()\n",
    "    depth_map = sl.Mat()\n",
    "\n",
    "    try:\n",
    "        while True:\n",
    "            if zed.grab(runtime_params) == sl.ERROR_CODE.SUCCESS:\n",
    "                zed.retrieve_image(image, sl.VIEW.LEFT)  # Get the left camera image\n",
    "                zed.retrieve_measure(depth_map, sl.MEASURE.DEPTH)  # Get the depth map\n",
    "\n",
    "                img = image.get_data()[:, :, :3]  # Remove the alpha channel\n",
    "                img = np.asanyarray(img)\n",
    "\n",
    "                results = model1(img)\n",
    "                for result in results:\n",
    "                    cv2.imshow('ZED Camera', result.plot())\n",
    "                    cv2.waitKey(100)\n",
    "                    cord = result.boxes.xyxy\n",
    "                    if len(cord) != 0:\n",
    "                        x1, y1 = cord[0][0], cord[0][1]\n",
    "                        x2, y2 = cord[0][2], cord[0][3]\n",
    "                        (x, y) = (x2 + x1) / 2, (y2 + y1) / 2\n",
    "\n",
    "                        # Retrieve depth at the center of the detected object\n",
    "                        z_depth = depth_map.get_value(int(x), int(y))[1]  # [1] gives the depth value\n",
    "                        print(z_depth)\n",
    "                        depth_ar.append(z_depth)\n",
    "\n",
    "                        if int(z_depth) <= 2.1:  # Check if object is within 2 meters\n",
    "                            return z_depth\n",
    "                    else:\n",
    "                        continue\n",
    "\n",
    "            if cv2.waitKey(1) & 0xFF == ord('q'):\n",
    "                break\n",
    "    finally:\n",
    "        # Close the ZED camera\n",
    "        zed.close()\n",
    "        cv2.destroyAllWindows()\n",
    "    return z_depth"
   ]
  },
  {
   "cell_type": "code",
   "execution_count": 13,
   "metadata": {},
   "outputs": [],
   "source": [
    "# arrow direction detection\n",
    "def detect():\n",
    "    zed = sl.Camera()\n",
    "    init_params = sl.InitParameters()\n",
    "    init_params.camera_resolution = sl.RESOLUTION.HD720\n",
    "    init_params.coordinate_units = sl.UNIT.METER\n",
    "    init_params.depth_mode = sl.DEPTH_MODE.ULTRA  # Use ULTRA for higher depth accuracy\n",
    "    zed.open(init_params)\n",
    "\n",
    "    runtime_params = sl.RuntimeParameters()\n",
    "    image = sl.Mat()\n",
    "\n",
    "    def array2dir(array):\n",
    "        none_prob = 0.4\n",
    "        print(\"Model output array:\", array[0][0], array[0][1], array[0][2], array[0][3])\n",
    "        down_prob, left_prob, right_prob, up_prob = array[0][:4]\n",
    "        if left_prob > right_prob and left_prob > up_prob and left_prob > down_prob and left_prob > none_prob:\n",
    "            print(\"left\")\n",
    "        elif right_prob > left_prob and right_prob > up_prob and right_prob > down_prob and right_prob > none_prob:\n",
    "            print(\"right\")\n",
    "        # elif up_prob > left_prob and up_prob > right_prob and up_prob > down_prob and up_prob > none_prob:\n",
    "        #     print(\"up\")\n",
    "        # elif down_prob > left_prob and down_prob > right_prob and down_prob > up_prob and down_prob > none_prob:\n",
    "        #     print(\"down\")\n",
    "        else:\n",
    "            print(\"none\")\n",
    "\n",
    "    # Detection\n",
    "    start_time = time.time()\n",
    "    duration = 5  # Run for 5 seconds\n",
    "    dir=[]\n",
    "\n",
    "    try:\n",
    "        while True:\n",
    "            if zed.grab(runtime_params) == sl.ERROR_CODE.SUCCESS:\n",
    "                zed.retrieve_image(image, sl.VIEW.LEFT)\n",
    "                img = image.get_data()[:, :, :3]\n",
    "                cv2.imshow('ZED Camera', img)\n",
    "\n",
    "                img = cv2.resize(img, (224, 224))\n",
    "                img = np.expand_dims(img, axis=0)\n",
    "\n",
    "                output = model2.predict(img)  # Perform prediction using the loaded model\n",
    "                out = array2dir(output)\n",
    "                dir.append(out)\n",
    "\n",
    "            if cv2.waitKey(1) & 0xFF == ord('q'):\n",
    "                break\n",
    "\n",
    "            # Stop after the specified duration\n",
    "            elapsed_time = time.time() - start_time\n",
    "            if elapsed_time > duration:\n",
    "                print(f\"Stopping after {duration} seconds.\")\n",
    "                break\n",
    "\n",
    "    finally:\n",
    "        zed.close()\n",
    "        cv2.destroyAllWindows()\n",
    "\n",
    "    count_r=0\n",
    "    count_l=0\n",
    "    for i in dir:\n",
    "        if(i == \"right\"):\n",
    "            count_r +=1\n",
    "        elif(i == \"left\"):\n",
    "            count_l += 1\n",
    "        \n",
    "    if((count_r == 0) and (count_l==0)):\n",
    "        return \"none\"\n",
    "    elif(count_r>count_l):\n",
    "        return \"right \"\n",
    "    else:\n",
    "        return \"left\"\n"
   ]
  },
  {
   "cell_type": "code",
   "execution_count": 14,
   "metadata": {},
   "outputs": [
    {
     "ename": "KeyboardInterrupt",
     "evalue": "",
     "output_type": "error",
     "traceback": [
      "\u001b[1;31m---------------------------------------------------------------------------\u001b[0m",
      "\u001b[1;31mKeyboardInterrupt\u001b[0m                         Traceback (most recent call last)",
      "Cell \u001b[1;32mIn[14], line 1\u001b[0m\n\u001b[1;32m----> 1\u001b[0m depth1 \u001b[38;5;241m=\u001b[39m \u001b[43mdepth\u001b[49m\u001b[43m(\u001b[49m\u001b[43m)\u001b[49m\n\u001b[0;32m      2\u001b[0m \u001b[38;5;28;01mif\u001b[39;00m depth1 \u001b[38;5;241m<\u001b[39m\u001b[38;5;241m=\u001b[39m \u001b[38;5;241m2\u001b[39m:\n\u001b[0;32m      3\u001b[0m     direction \u001b[38;5;241m=\u001b[39m detect()\n",
      "Cell \u001b[1;32mIn[3], line 45\u001b[0m, in \u001b[0;36mdepth\u001b[1;34m()\u001b[0m\n\u001b[0;32m     42\u001b[0m                 \u001b[38;5;28;01melse\u001b[39;00m:\n\u001b[0;32m     43\u001b[0m                     \u001b[38;5;28;01mcontinue\u001b[39;00m\n\u001b[1;32m---> 45\u001b[0m         \u001b[38;5;28;01mif\u001b[39;00m \u001b[43mcv2\u001b[49m\u001b[38;5;241;43m.\u001b[39;49m\u001b[43mwaitKey\u001b[49m\u001b[43m(\u001b[49m\u001b[38;5;241;43m1\u001b[39;49m\u001b[43m)\u001b[49m \u001b[38;5;241m&\u001b[39m \u001b[38;5;241m0xFF\u001b[39m \u001b[38;5;241m==\u001b[39m \u001b[38;5;28mord\u001b[39m(\u001b[38;5;124m'\u001b[39m\u001b[38;5;124mq\u001b[39m\u001b[38;5;124m'\u001b[39m):\n\u001b[0;32m     46\u001b[0m             \u001b[38;5;28;01mbreak\u001b[39;00m\n\u001b[0;32m     47\u001b[0m \u001b[38;5;28;01mfinally\u001b[39;00m:\n\u001b[0;32m     48\u001b[0m     \u001b[38;5;66;03m# Close the ZED camera\u001b[39;00m\n",
      "\u001b[1;31mKeyboardInterrupt\u001b[0m: "
     ]
    }
   ],
   "source": [
    "depth1 = depth()\n",
    "if depth1 <= 2.1:\n",
    "    direction = detect()\n",
    "\n",
    "if direction == \"left\":\n",
    "    out = -1\n",
    "elif direction == \"right\":\n",
    "    out = 1\n",
    "else:\n",
    "    out = 0\n",
    "print(out)"
   ]
  },
  {
   "cell_type": "code",
   "execution_count": 12,
   "metadata": {},
   "outputs": [
    {
     "name": "stdout",
     "output_type": "stream",
     "text": [
      "[]\n"
     ]
    }
   ],
   "source": [
    "zed_list = sl.Camera.get_device_list()\n",
    "print(zed_list)\n",
    "for cam in zed_list:\n",
    "    print(f\"ZED Camera Serial Number: {cam.serial_number}\")"
   ]
  }
 ],
 "metadata": {
  "kernelspec": {
   "display_name": "Python 3",
   "language": "python",
   "name": "python3"
  },
  "language_info": {
   "codemirror_mode": {
    "name": "ipython",
    "version": 3
   },
   "file_extension": ".py",
   "mimetype": "text/x-python",
   "name": "python",
   "nbconvert_exporter": "python",
   "pygments_lexer": "ipython3",
   "version": "3.10.14"
  }
 },
 "nbformat": 4,
 "nbformat_minor": 2
}
